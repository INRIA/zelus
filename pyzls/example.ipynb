{
 "cells": [
  {
   "cell_type": "markdown",
   "metadata": {},
   "source": [
    "# PyZLS: Zelus in Python\n",
    "\n",
    "## A not so trivial first example\n",
    "- Node application\n",
    "- Automaton\n",
    "- Parametric state"
   ]
  },
  {
   "cell_type": "code",
   "execution_count": 1,
   "metadata": {},
   "outputs": [],
   "source": [
    "from pyzls import PyZL"
   ]
  },
  {
   "cell_type": "code",
   "execution_count": 2,
   "metadata": {
    "tags": []
   },
   "outputs": [],
   "source": [
    "code = \"\"\"\n",
    "let node cpt(i, incr) = o where \n",
    "    rec o = i fby o + incr\n",
    "\n",
    "let node sawtooth(i) = o where\n",
    "    rec init o = 0\n",
    "    and automaton\n",
    "      | Up -> do o = cpt(0, 1) until (o > 10) then Down(o)\n",
    "      | Down(i) -> do o = cpt(i, -1) until (o < 1) then Up\n",
    "\"\"\"\n",
    "test = PyZL(code)"
   ]
  },
  {
   "cell_type": "code",
   "execution_count": 3,
   "metadata": {
    "tags": []
   },
   "outputs": [
    {
     "data": {
      "text/plain": [
       "[1, 2, 3, 4, 5, 6, 7, 8, 9, 10, 11, 10, 9, 8, 7, 6, 5, 4, 3, 2]"
      ]
     },
     "execution_count": 3,
     "metadata": {},
     "output_type": "execute_result"
    }
   ],
   "source": [
    "t = test.sawtooth()\n",
    "t.reset()  \n",
    "[t.step(0) for _ in range(20)]"
   ]
  },
  {
   "cell_type": "code",
   "execution_count": 4,
   "metadata": {},
   "outputs": [
    {
     "name": "stdout",
     "output_type": "stream",
     "text": [
      "(* Zelus code *)\n",
      "\n",
      "let node cpt(i, incr) = o where \n",
      "    rec o = i fby o + incr\n",
      "\n",
      "let node sawtooth(i) = o where\n",
      "    rec init o = 0\n",
      "    and automaton\n",
      "      | Up -> do o = cpt(0, 1) until (o > 10) then Down(o)\n",
      "      | Down(i) -> do o = cpt(i, -1) until (o < 1) then Up\n",
      "\n",
      "--------------------------------------------------------------------------------\n",
      "\n",
      "# Python Code\n",
      "\n",
      "from operator import *\n",
      "from pyzls import Node\n",
      "\n",
      "class cpt(Node):\n",
      "    def __init__ (self):\n",
      "        pass\n",
      "        self.i_28 = False\n",
      "        self.m_26 = 42\n",
      "        \n",
      "    def reset (self, ):\n",
      "        self.i_28 = True\n",
      "        \n",
      "    def step (self, i_23 , incr_24):\n",
      "        if self.i_28:\n",
      "            self.m_26 = i_23\n",
      "        self.i_28 = False\n",
      "        x_27 = self.m_26\n",
      "        o_25 = add(x_27 , incr_24)\n",
      "        self.m_26 = o_25\n",
      "        return o_25\n",
      "        \n",
      "\n",
      "class sawtooth(Node):\n",
      "    def __init__ (self):\n",
      "        pass\n",
      "        self.r_33 = False\n",
      "        self.s_32 = \"Tmpjt0whnoc_Down_16\"\n",
      "        self.i_31 = 42\n",
      "        self.o_30 = 42\n",
      "        self.i_34 = cpt () \n",
      "        self.i_35 = cpt () \n",
      "        \n",
      "    def reset (self, ):\n",
      "        self.r_33 = False\n",
      "        self.s_32 = \"Tmpjt0whnoc_Up_15\"\n",
      "        self.o_30 = 0\n",
      "        self.i_34.reset()\n",
      "        return self.i_35.reset()\n",
      "        \n",
      "    def step (self, i_29):\n",
      "        if self.s_32 == \"Tmpjt0whnoc_Up_15\":\n",
      "            if self.r_33:\n",
      "                self.i_34.reset()\n",
      "            self.o_30 = self.i_34.step(0 , 1)\n",
      "            if gt(self.o_30 , 10) == True:\n",
      "                self.i_31 = self.o_30\n",
      "                self.r_33 = True\n",
      "                self.s_32 = \"Tmpjt0whnoc_Down_16\"\n",
      "            else:\n",
      "                self.r_33 = False\n",
      "        elif self.s_32 == \"Tmpjt0whnoc_Down_16\":\n",
      "            if self.r_33:\n",
      "                self.i_35.reset()\n",
      "            self.o_30 = self.i_35.step(self.i_31 , (-1))\n",
      "            if lt(self.o_30 , 1) == True:\n",
      "                self.r_33 = True\n",
      "                self.s_32 = \"Tmpjt0whnoc_Up_15\"\n",
      "            else:\n",
      "                self.r_33 = False\n",
      "        return self.o_30\n",
      "        \n",
      "\n",
      "\n"
     ]
    }
   ],
   "source": [
    "print(test)"
   ]
  },
  {
   "cell_type": "code",
   "execution_count": 5,
   "metadata": {},
   "outputs": [],
   "source": [
    "import matplotlib.pyplot as plt\n",
    "from IPython.display import clear_output\n",
    "import time"
   ]
  },
  {
   "cell_type": "code",
   "execution_count": 6,
   "metadata": {},
   "outputs": [
    {
     "data": {
      "image/png": "[encoded data removed]",
      "text/plain": [
       "<Figure size 432x288 with 1 Axes>"
      ]
     },
     "metadata": {
      "needs_background": "light"
     },
     "output_type": "display_data"
    }
   ],
   "source": [
    "t2 = test.sawtooth()\n",
    "t2.reset()\n",
    "\n",
    "n = 50\n",
    "p = []\n",
    "for x in range(n):\n",
    "    clear_output(wait=True)\n",
    "    p.append(t2.step(0))\n",
    "    t = [i for i in range(len(p))]\n",
    "    plt.plot(t , p)\n",
    "    plt.axis((0 , n , 0 , 15))\n",
    "    plt.show() \n",
    "#     time.sleep(0.01)"
   ]
  },
  {
   "cell_type": "markdown",
   "metadata": {},
   "source": [
    "## Import python functions\n",
    "\n",
    "- Extract python type signatures\n",
    "- Compile zli interface\n",
    "- Generate python module\n",
    "- (also static parameters)"
   ]
  },
  {
   "cell_type": "code",
   "execution_count": 7,
   "metadata": {},
   "outputs": [],
   "source": [
    "from pyzls import pyzlslib, PyZL"
   ]
  },
  {
   "cell_type": "code",
   "execution_count": 8,
   "metadata": {},
   "outputs": [],
   "source": [
    "@pyzlslib\n",
    "def g(x: int, y:int) -> int:\n",
    "    return x + y\n",
    "\n",
    "@pyzlslib\n",
    "def gg(x: int, y:int) -> int:\n",
    "    return g(x, y)"
   ]
  },
  {
   "cell_type": "code",
   "execution_count": 9,
   "metadata": {},
   "outputs": [],
   "source": [
    "code = \"\"\"\n",
    "let node sawtooth i a = o where\n",
    "    rec init o = 0\n",
    "    and automaton\n",
    "      | Up -> do o = gg(last o, 1) until (o > 10) then Down\n",
    "      | Down -> do o = gg(last o, -1) until (o < 1) then Up\n",
    "\"\"\"\n",
    "test = PyZL(code)"
   ]
  },
  {
   "cell_type": "code",
   "execution_count": 10,
   "metadata": {},
   "outputs": [
    {
     "data": {
      "text/plain": [
       "[1, 2, 3, 4, 5, 6, 7, 8, 9, 10, 11, 10, 9, 8, 7, 6, 5, 4, 3, 2]"
      ]
     },
     "execution_count": 10,
     "metadata": {},
     "output_type": "execute_result"
    }
   ],
   "source": [
    "t = test.sawtooth(12)()\n",
    "t.reset()\n",
    "[t.step(0) for _ in range(20)]"
   ]
  },
  {
   "cell_type": "code",
   "execution_count": 11,
   "metadata": {},
   "outputs": [
    {
     "name": "stdout",
     "output_type": "stream",
     "text": [
      "from operator import *\n",
      "from pyzls import Node\n",
      "import tmpo6700oz3\n",
      "\n",
      "def sawtooth(i_16):\n",
      "    class sawtooth(Node):\n",
      "        def __init__ (self):\n",
      "            pass\n",
      "            self.r_20 = False\n",
      "            self.s_19 = \"Tmplpw09rqb_Down_11\"\n",
      "            self.o_17 = 42\n",
      "            \n",
      "        def reset (self, ):\n",
      "            self.r_20 = False\n",
      "            self.s_19 = \"Tmplpw09rqb_Up_10\"\n",
      "            self.o_17 = 0\n",
      "            \n",
      "        def step (self, a_15):\n",
      "            l_18 = self.o_17\n",
      "            if self.s_19 == \"Tmplpw09rqb_Up_10\":\n",
      "                if self.r_20:\n",
      "                    pass\n",
      "                self.o_17 = tmpo6700oz3.gg(l_18 , 1)\n",
      "                if gt(self.o_17 , 10) == True:\n",
      "                    self.r_20 = True\n",
      "                    self.s_19 = \"Tmplpw09rqb_Down_11\"\n",
      "                else:\n",
      "                    self.r_20 = False\n",
      "            elif self.s_19 == \"Tmplpw09rqb_Down_11\":\n",
      "                if self.r_20:\n",
      "                    pass\n",
      "                self.o_17 = tmpo6700oz3.gg(l_18 , (-1))\n",
      "                if lt(self.o_17 , 1) == True:\n",
      "                    self.r_20 = True\n",
      "                    self.s_19 = \"Tmplpw09rqb_Up_10\"\n",
      "                else:\n",
      "                    self.r_20 = False\n",
      "            return self.o_17\n",
      "            \n",
      "    return sawtooth\n",
      "\n",
      "\n"
     ]
    }
   ],
   "source": [
    "print(test.py_code)"
   ]
  },
  {
   "cell_type": "code",
   "execution_count": null,
   "metadata": {},
   "outputs": [],
   "source": []
  }
 ],
 "metadata": {
  "kernelspec": {
   "display_name": "Python 3.8.3 64-bit",
   "language": "python",
   "name": "python38364bit95208d0f79fb49a1b9fc2f26e67a75b9"
  },
  "language_info": {
   "codemirror_mode": {
    "name": "ipython",
    "version": 3
   },
   "file_extension": ".py",
   "mimetype": "text/x-python",
   "name": "python",
   "nbconvert_exporter": "python",
   "pygments_lexer": "ipython3",
   "version": "3.8.3"
  }
 },
 "nbformat": 4,
 "nbformat_minor": 2
}
