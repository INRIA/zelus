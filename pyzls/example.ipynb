{
 "cells": [
  {
   "cell_type": "code",
   "execution_count": 1,
   "metadata": {},
   "outputs": [],
   "source": [
    "from pyzls import PyZL"
   ]
  },
  {
   "cell_type": "code",
   "execution_count": 2,
   "metadata": {
    "tags": []
   },
   "outputs": [],
   "source": [
    "code = \"\"\"\n",
    "let node sawtooth(i) = o where\n",
    "    rec init o = 0\n",
    "    and automaton\n",
    "      | Up -> do o = last o + 1 until (o > 10) then Down\n",
    "      | Down -> do o = last o - 1 until (o < 1) then Up\n",
    "\"\"\"\n",
    "test = PyZL(code)"
   ]
  },
  {
   "cell_type": "code",
   "execution_count": 3,
   "metadata": {
    "tags": []
   },
   "outputs": [
    {
     "data": {
      "text/plain": [
       "[1, 2, 3, 4, 5, 6, 7, 8, 9, 10, 11, 10, 9, 8, 7, 6, 5, 4, 3, 2]"
      ]
     },
     "execution_count": 3,
     "metadata": {},
     "output_type": "execute_result"
    }
   ],
   "source": [
    "t = test.sawtooth()\n",
    "t.reset()  \n",
    "[t.step(0) for _ in range(20)]"
   ]
  },
  {
   "cell_type": "code",
   "execution_count": 4,
   "metadata": {},
   "outputs": [
    {
     "name": "stdout",
     "output_type": "stream",
     "text": [
      "from operator import *\n",
      "from pyzls import Node\n",
      "\n",
      "class sawtooth(Node):\n",
      "    def __init__ (self):\n",
      "        pass\n",
      "        self.r_21 = False\n",
      "        self.s_20 = \"Tmpv8oz3mve_Down_13\"\n",
      "        self.o_18 = 42\n",
      "        \n",
      "    def reset (self, ):\n",
      "        self.r_21 = False\n",
      "        self.s_20 = \"Tmpv8oz3mve_Up_12\"\n",
      "        self.o_18 = 0\n",
      "        \n",
      "    def step (self, i_17):\n",
      "        l_19 = self.o_18\n",
      "        if self.s_20 == \"Tmpv8oz3mve_Up_12\":\n",
      "            if self.r_21:\n",
      "                pass\n",
      "            self.o_18 = add(l_19 , 1)\n",
      "            if gt(self.o_18 , 10) == True:\n",
      "                self.r_21 = True\n",
      "                self.s_20 = \"Tmpv8oz3mve_Down_13\"\n",
      "            else:\n",
      "                self.r_21 = False\n",
      "        elif self.s_20 == \"Tmpv8oz3mve_Down_13\":\n",
      "            if self.r_21:\n",
      "                pass\n",
      "            self.o_18 = sub(l_19 , 1)\n",
      "            if lt(self.o_18 , 1) == True:\n",
      "                self.r_21 = True\n",
      "                self.s_20 = \"Tmpv8oz3mve_Up_12\"\n",
      "            else:\n",
      "                self.r_21 = False\n",
      "        return self.o_18\n",
      "        \n",
      "\n",
      "\n"
     ]
    }
   ],
   "source": [
    "print(test.py_code)"
   ]
  },
  {
   "cell_type": "code",
   "execution_count": 5,
   "metadata": {},
   "outputs": [],
   "source": [
    "import matplotlib.pyplot as plt\n",
    "from IPython.display import clear_output\n",
    "import time"
   ]
  },
  {
   "cell_type": "code",
   "execution_count": 9,
   "metadata": {},
   "outputs": [
    {
     "data": {
      "image/png": "[encoded data removed]",
      "text/plain": [
       "<Figure size 432x288 with 1 Axes>"
      ]
     },
     "metadata": {
      "needs_background": "light"
     },
     "output_type": "display_data"
    }
   ],
   "source": [
    "t2 = test.sawtooth()\n",
    "t2.reset()\n",
    "\n",
    "n = 100\n",
    "p = []\n",
    "for x in range(n):\n",
    "    clear_output(wait=True)\n",
    "    p.append(t2.step(0))\n",
    "    t = [i for i in range(len(p))]\n",
    "    plt.plot(t , p)\n",
    "    plt.axis((0 , n , 0 , 15))\n",
    "    plt.show() \n",
    "#     time.sleep(0.01)"
   ]
  },
  {
   "cell_type": "code",
   "execution_count": null,
   "metadata": {},
   "outputs": [],
   "source": []
  }
 ],
 "metadata": {
  "kernelspec": {
   "display_name": "Python 3.8.3 64-bit",
   "language": "python",
   "name": "python38364bit95208d0f79fb49a1b9fc2f26e67a75b9"
  },
  "language_info": {
   "codemirror_mode": {
    "name": "ipython",
    "version": 3
   },
   "file_extension": ".py",
   "mimetype": "text/x-python",
   "name": "python",
   "nbconvert_exporter": "python",
   "pygments_lexer": "ipython3",
   "version": "3.8.3"
  }
 },
 "nbformat": 4,
 "nbformat_minor": 2
}
