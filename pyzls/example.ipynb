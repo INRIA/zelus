{
 "cells": [
  {
   "cell_type": "markdown",
   "metadata": {},
   "source": [
    "# PyZLS: Zelus in Python\n",
    "\n",
    "## A not so trivial first example\n",
    "- Node application\n",
    "- Automaton\n",
    "- Parametric state"
   ]
  },
  {
   "cell_type": "code",
   "execution_count": 1,
   "metadata": {},
   "outputs": [],
   "source": [
    "from pyzls import PyZL"
   ]
  },
  {
   "cell_type": "code",
   "execution_count": 2,
   "metadata": {
    "tags": []
   },
   "outputs": [],
   "source": [
    "code = \"\"\"\n",
    "let node cpt(i, incr) = o where \n",
    "    rec o = i fby o + incr\n",
    "\n",
    "let node sawtooth(i) = o where\n",
    "    rec init o = 0\n",
    "    and automaton\n",
    "      | Up -> do o = cpt(0, 1) until (o > 10) then Down(o)\n",
    "      | Down(i) -> do o = cpt(i, -1) until (o < 1) then Up\n",
    "\"\"\"\n",
    "test = PyZL(code)"
   ]
  },
  {
   "cell_type": "code",
   "execution_count": 3,
   "metadata": {
    "tags": []
   },
   "outputs": [
    {
     "data": {
      "text/plain": [
       "[1, 2, 3, 4, 5, 6, 7, 8, 9, 10, 11, 10, 9, 8, 7, 6, 5, 4, 3, 2]"
      ]
     },
     "execution_count": 3,
     "metadata": {},
     "output_type": "execute_result"
    }
   ],
   "source": [
    "t = test.sawtooth()\n",
    "t.reset()  \n",
    "[t.step(0) for _ in range(20)]"
   ]
  },
  {
   "cell_type": "code",
   "execution_count": 4,
   "metadata": {},
   "outputs": [
    {
     "name": "stdout",
     "output_type": "stream",
     "text": [
      "(* Zelus code *)\n",
      "\n",
      "let node cpt(i, incr) = o where \n",
      "    rec o = i fby o + incr\n",
      "\n",
      "let node sawtooth(i) = o where\n",
      "    rec init o = 0\n",
      "    and automaton\n",
      "      | Up -> do o = cpt(0, 1) until (o > 10) then Down(o)\n",
      "      | Down(i) -> do o = cpt(i, -1) until (o < 1) then Up\n",
      "\n",
      "--------------------------------------------------------------------------------\n",
      "\n",
      "# Python Code\n",
      "\n",
      "from operator import *\n",
      "from pyzls import Node\n",
      "\n",
      "class cpt(Node):\n",
      "    def __init__ (self):\n",
      "        pass\n",
      "        self.i_28 = False\n",
      "        self.m_26 = 42\n",
      "        \n",
      "    def reset (self, ):\n",
      "        self.i_28 = True\n",
      "        \n",
      "    def step (self, i_23 , incr_24):\n",
      "        if self.i_28:\n",
      "            self.m_26 = i_23\n",
      "        self.i_28 = False\n",
      "        x_27 = self.m_26\n",
      "        o_25 = add(x_27 , incr_24)\n",
      "        self.m_26 = o_25\n",
      "        return o_25\n",
      "        \n",
      "\n",
      "class sawtooth(Node):\n",
      "    def __init__ (self):\n",
      "        pass\n",
      "        self.r_33 = False\n",
      "        self.s_32 = \"Tmpcgrf_k1p_Down_16\"\n",
      "        self.i_31 = 42\n",
      "        self.o_30 = 42\n",
      "        self.i_34 = cpt () \n",
      "        self.i_35 = cpt () \n",
      "        \n",
      "    def reset (self, ):\n",
      "        self.r_33 = False\n",
      "        self.s_32 = \"Tmpcgrf_k1p_Up_15\"\n",
      "        self.o_30 = 0\n",
      "        self.i_34.reset()\n",
      "        return self.i_35.reset()\n",
      "        \n",
      "    def step (self, i_29):\n",
      "        if self.s_32 == \"Tmpcgrf_k1p_Up_15\":\n",
      "            if self.r_33:\n",
      "                self.i_34.reset()\n",
      "            self.o_30 = self.i_34.step(0 , 1)\n",
      "            if gt(self.o_30 , 10) == True:\n",
      "                self.i_31 = self.o_30\n",
      "                self.r_33 = True\n",
      "                self.s_32 = \"Tmpcgrf_k1p_Down_16\"\n",
      "            else:\n",
      "                self.r_33 = False\n",
      "        elif self.s_32 == \"Tmpcgrf_k1p_Down_16\":\n",
      "            if self.r_33:\n",
      "                self.i_35.reset()\n",
      "            self.o_30 = self.i_35.step(self.i_31 , (-1))\n",
      "            if lt(self.o_30 , 1) == True:\n",
      "                self.r_33 = True\n",
      "                self.s_32 = \"Tmpcgrf_k1p_Up_15\"\n",
      "            else:\n",
      "                self.r_33 = False\n",
      "        return self.o_30\n",
      "        \n",
      "\n",
      "\n"
     ]
    }
   ],
   "source": [
    "print(test)"
   ]
  },
  {
   "cell_type": "code",
   "execution_count": 5,
   "metadata": {},
   "outputs": [],
   "source": [
    "import matplotlib.pyplot as plt\n",
    "from IPython.display import clear_output\n",
    "import time"
   ]
  },
  {
   "cell_type": "code",
   "execution_count": 6,
   "metadata": {},
   "outputs": [
    {
     "data": {
      "image/png": "[encoded data removed]",
      "text/plain": [
       "<Figure size 432x288 with 1 Axes>"
      ]
     },
     "metadata": {
      "needs_background": "light"
     },
     "output_type": "display_data"
    }
   ],
   "source": [
    "t2 = test.sawtooth()\n",
    "t2.reset()\n",
    "\n",
    "t3 = test.sawtooth()\n",
    "t3.reset()\n",
    "t3.step(0)\n",
    "t3.step(0)\n",
    "\n",
    "n = 50\n",
    "p = []\n",
    "pp = []\n",
    "for x in range(n):\n",
    "    clear_output(wait=True)\n",
    "    p.append(t2.step(0))\n",
    "    pp.append(t3.step(0))\n",
    "    t = [i for i in range(len(p))]\n",
    "    plt.plot(t , p)\n",
    "    plt.plot(t , pp, 'r')\n",
    "    plt.axis((0 , n , 0 , 15))\n",
    "    plt.show() \n",
    "#     time.sleep(0.01)"
   ]
  },
  {
   "cell_type": "markdown",
   "metadata": {},
   "source": [
    "## Import python functions\n",
    "\n",
    "- Extract python type signatures\n",
    "- Compile zli interface\n",
    "- Generate python module\n",
    "- (also static parameters)"
   ]
  },
  {
   "cell_type": "code",
   "execution_count": 7,
   "metadata": {},
   "outputs": [],
   "source": [
    "from pyzls import pyzlslib, PyZL"
   ]
  },
  {
   "cell_type": "code",
   "execution_count": 8,
   "metadata": {},
   "outputs": [],
   "source": [
    "@pyzlslib\n",
    "def g(x: int, y:float) -> int:\n",
    "    return x + y\n",
    "\n",
    "@pyzlslib\n",
    "def gg(x: int, y:int) -> int:\n",
    "    return g(x, y)"
   ]
  },
  {
   "cell_type": "code",
   "execution_count": 9,
   "metadata": {},
   "outputs": [],
   "source": [
    "code = \"\"\"\n",
    "let node sawtooth i p a = o where\n",
    "    rec init o = 0\n",
    "    and automaton\n",
    "      | Up -> do o = gg(last o, 1) until (o > 10) then Down\n",
    "      | Down -> do o = gg(last o, -1) until (o < 1) then Up\n",
    "\"\"\"\n",
    "test = PyZL(code)"
   ]
  },
  {
   "cell_type": "code",
   "execution_count": 10,
   "metadata": {},
   "outputs": [
    {
     "data": {
      "text/plain": [
       "[1, 2, 3, 4, 5, 6, 7, 8, 9, 10, 11, 10, 9, 8, 7, 6, 5, 4, 3, 2]"
      ]
     },
     "execution_count": 10,
     "metadata": {},
     "output_type": "execute_result"
    }
   ],
   "source": [
    "t = test.sawtooth(12)(5)()\n",
    "t.reset()\n",
    "[t.step(0) for _ in range(20)]"
   ]
  },
  {
   "cell_type": "code",
   "execution_count": 11,
   "metadata": {},
   "outputs": [
    {
     "name": "stdout",
     "output_type": "stream",
     "text": [
      "from operator import *\n",
      "from pyzls import Node\n",
      "import tmp4sv8resr\n",
      "\n",
      "def sawtooth(i_18):\n",
      "    def sawtooth(p_19):\n",
      "        class sawtooth(Node):\n",
      "            def __init__ (self):\n",
      "                pass\n",
      "                self.r_23 = False\n",
      "                self.s_22 = \"Tmp4xphnymr_Down_13\"\n",
      "                self.o_20 = 42\n",
      "                \n",
      "            def reset (self, ):\n",
      "                self.r_23 = False\n",
      "                self.s_22 = \"Tmp4xphnymr_Up_12\"\n",
      "                self.o_20 = 0\n",
      "                \n",
      "            def step (self, a_17):\n",
      "                l_21 = self.o_20\n",
      "                if self.s_22 == \"Tmp4xphnymr_Up_12\":\n",
      "                    if self.r_23:\n",
      "                        pass\n",
      "                    self.o_20 = tmp4sv8resr.gg(l_21 , 1)\n",
      "                    if gt(self.o_20 , 10) == True:\n",
      "                        self.r_23 = True\n",
      "                        self.s_22 = \"Tmp4xphnymr_Down_13\"\n",
      "                    else:\n",
      "                        self.r_23 = False\n",
      "                elif self.s_22 == \"Tmp4xphnymr_Down_13\":\n",
      "                    if self.r_23:\n",
      "                        pass\n",
      "                    self.o_20 = tmp4sv8resr.gg(l_21 , (-1))\n",
      "                    if lt(self.o_20 , 1) == True:\n",
      "                        self.r_23 = True\n",
      "                        self.s_22 = \"Tmp4xphnymr_Up_12\"\n",
      "                    else:\n",
      "                        self.r_23 = False\n",
      "                return self.o_20\n",
      "                \n",
      "        return sawtooth\n",
      "    return sawtooth\n",
      "\n",
      "\n"
     ]
    }
   ],
   "source": [
    "print(test.py_code)"
   ]
  },
  {
   "cell_type": "markdown",
   "metadata": {},
   "source": [
    "## Use imported python modules\n",
    "- Example with numpy"
   ]
  },
  {
   "cell_type": "code",
   "execution_count": 12,
   "metadata": {},
   "outputs": [],
   "source": [
    "from pyzls import pyzlslib, PyZL"
   ]
  },
  {
   "cell_type": "code",
   "execution_count": 13,
   "metadata": {},
   "outputs": [],
   "source": [
    "@pyzlslib\n",
    "def foo(x: \"'a\") -> \"'b\":\n",
    "    import numpy as np\n",
    "    return np.arange(x)"
   ]
  },
  {
   "cell_type": "code",
   "execution_count": 14,
   "metadata": {},
   "outputs": [],
   "source": [
    "code = \"\"\"\n",
    "let node dummy i = o where\n",
    "    rec o = foo(i)\n",
    "\"\"\"\n",
    "test = PyZL(code)"
   ]
  },
  {
   "cell_type": "code",
   "execution_count": 15,
   "metadata": {},
   "outputs": [
    {
     "data": {
      "text/plain": [
       "[array([0, 1]),\n",
       " array([0, 1, 2]),\n",
       " array([0, 1, 2, 3]),\n",
       " array([0, 1, 2, 3, 4]),\n",
       " array([0, 1, 2, 3, 4, 5]),\n",
       " array([0, 1, 2, 3, 4, 5, 6]),\n",
       " array([0, 1, 2, 3, 4, 5, 6, 7]),\n",
       " array([0, 1, 2, 3, 4, 5, 6, 7, 8])]"
      ]
     },
     "execution_count": 15,
     "metadata": {},
     "output_type": "execute_result"
    }
   ],
   "source": [
    "d = test.dummy()\n",
    "d.reset()\n",
    "[d.step(i) for i in range(2, 10)]"
   ]
  },
  {
   "cell_type": "code",
   "execution_count": 16,
   "metadata": {},
   "outputs": [
    {
     "data": {
      "text/plain": [
       "array([ 0,  1,  2,  3,  4,  5,  6,  7,  8,  9, 10, 11, 12, 13, 14, 15, 16,\n",
       "       17, 18, 19, 20, 21, 22, 23, 24, 25, 26, 27, 28, 29, 30, 31, 32, 33,\n",
       "       34, 35, 36, 37, 38, 39, 40, 41, 42, 43, 44])"
      ]
     },
     "execution_count": 16,
     "metadata": {},
     "output_type": "execute_result"
    }
   ],
   "source": [
    "foo(45)"
   ]
  },
  {
   "cell_type": "code",
   "execution_count": null,
   "metadata": {},
   "outputs": [],
   "source": []
  }
 ],
 "metadata": {
  "kernelspec": {
   "display_name": "Python 3.8.3 64-bit",
   "language": "python",
   "name": "python38364bit95208d0f79fb49a1b9fc2f26e67a75b9"
  },
  "language_info": {
   "codemirror_mode": {
    "name": "ipython",
    "version": 3
   },
   "file_extension": ".py",
   "mimetype": "text/x-python",
   "name": "python",
   "nbconvert_exporter": "python",
   "pygments_lexer": "ipython3",
   "version": "3.8.3"
  }
 },
 "nbformat": 4,
 "nbformat_minor": 2
}
