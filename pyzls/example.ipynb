{
 "cells": [
  {
   "cell_type": "markdown",
   "metadata": {},
   "source": [
    "# PyZLS: Zelus in Python\n",
    "\n",
    "## A not so trivial first example\n",
    "- Node application\n",
    "- Automaton\n",
    "- Parametric state"
   ]
  },
  {
   "cell_type": "code",
   "execution_count": 1,
   "metadata": {},
   "outputs": [
    {
     "data": {
      "application/javascript": [
       "IPython.CodeCell.options_default.highlight_modes['magic_ocaml'] = {'reg':[/^%%zelus/]};"
      ]
     },
     "metadata": {},
     "output_type": "display_data"
    }
   ],
   "source": [
    "import pyzls"
   ]
  },
  {
   "cell_type": "code",
   "execution_count": 2,
   "metadata": {
    "tags": []
   },
   "outputs": [],
   "source": [
    "%%zelus -c\n",
    "\n",
    "let node cpt i incr = o where \n",
    "    rec o = i fby o + incr\n",
    "\n",
    "let node sawtooth(i) = o where\n",
    "    rec init o = 0\n",
    "    and automaton\n",
    "      | Up -> do o = cpt 0 1 until (o > 10) then Down(o)\n",
    "      | Down(i) -> do o = cpt 10 (-1) until (o < 1) then Up"
   ]
  },
  {
   "cell_type": "code",
   "execution_count": 3,
   "metadata": {
    "tags": []
   },
   "outputs": [
    {
     "data": {
      "text/plain": [
       "[1, 2, 3, 4, 5, 6, 7, 8, 9, 10, 11, 9, 8, 7, 6, 5, 4, 3, 2, 1]"
      ]
     },
     "execution_count": 3,
     "metadata": {},
     "output_type": "execute_result"
    }
   ],
   "source": [
    "t = sawtooth()\n",
    "t.reset()  \n",
    "[t.step(0) for _ in range(20)]"
   ]
  },
  {
   "cell_type": "code",
   "execution_count": 4,
   "metadata": {},
   "outputs": [],
   "source": [
    "import matplotlib.pyplot as plt\n",
    "from IPython.display import clear_output\n",
    "import time\n",
    "import numpy as np"
   ]
  },
  {
   "cell_type": "code",
   "execution_count": 5,
   "metadata": {},
   "outputs": [
    {
     "data": {
      "image/png": "[encoded data removed]",
      "text/plain": [
       "<Figure size 432x288 with 1 Axes>"
      ]
     },
     "metadata": {
      "needs_background": "light"
     },
     "output_type": "display_data"
    }
   ],
   "source": [
    "t2 = sawtooth()\n",
    "t2.reset()\n",
    "\n",
    "t3 = sawtooth()\n",
    "t3.reset()\n",
    "t3.step(0)\n",
    "t3.step(0)\n",
    "\n",
    "n = 50\n",
    "t = np.arange(n)\n",
    "p = []\n",
    "pp = []\n",
    "for i in range(n):\n",
    "    clear_output(wait=True) \n",
    "    plt.plot(t[:i] , p)\n",
    "    plt.plot(t[:i] , pp, 'r')\n",
    "    plt.axis((0 , n , 0 , 15))\n",
    "    plt.show() \n",
    "    p.append(t2.step(0))\n",
    "    pp.append(t3.step(0))\n",
    "#     time.sleep(0.01)"
   ]
  },
  {
   "cell_type": "markdown",
   "metadata": {},
   "source": [
    "## Import python functions\n",
    "\n",
    "- Extract python type signatures\n",
    "- Compile zli interface\n",
    "- Generate python module\n",
    "- (also static parameters)"
   ]
  },
  {
   "cell_type": "code",
   "execution_count": 6,
   "metadata": {},
   "outputs": [],
   "source": [
    "import pyzls"
   ]
  },
  {
   "cell_type": "code",
   "execution_count": 7,
   "metadata": {},
   "outputs": [],
   "source": [
    "@pyzls.lib(\"bar\")\n",
    "def g(x: int, y:float) -> int:\n",
    "    return x + y\n",
    "\n",
    "@pyzls.lib(\"bar\")\n",
    "def gg(x: int, y:int) -> int:\n",
    "    return g(x, y)"
   ]
  },
  {
   "cell_type": "code",
   "execution_count": 8,
   "metadata": {},
   "outputs": [],
   "source": [
    "%%zelus\n",
    "\n",
    "open Bar\n",
    "\n",
    "let node sawtooth i p a = o where\n",
    "    rec init o = 0\n",
    "    and automaton\n",
    "      | Up -> do o = gg(last o, 1) until (o > 10) then Down\n",
    "      | Down -> do o = gg(last o, -1) until (o < 1) then Up"
   ]
  },
  {
   "cell_type": "code",
   "execution_count": 9,
   "metadata": {},
   "outputs": [
    {
     "data": {
      "text/plain": [
       "[1, 2, 3, 4, 5, 6, 7, 8, 9, 10, 11, 10, 9, 8, 7, 6, 5, 4, 3, 2]"
      ]
     },
     "execution_count": 9,
     "metadata": {},
     "output_type": "execute_result"
    }
   ],
   "source": [
    "t = sawtooth(12)(5)()\n",
    "t.reset()\n",
    "[t.step(0) for _ in range(20)]"
   ]
  },
  {
   "cell_type": "code",
   "execution_count": 10,
   "metadata": {},
   "outputs": [],
   "source": [
    "@pyzls.lib(\"a\")\n",
    "def u(x: int, y: int) -> int:\n",
    "    return x + y + 2"
   ]
  },
  {
   "cell_type": "code",
   "execution_count": 11,
   "metadata": {},
   "outputs": [],
   "source": [
    "%%zelus\n",
    "\n",
    "open A\n",
    "\n",
    "let node sawtooth i p a = o where\n",
    "    rec init o = 0\n",
    "    and automaton\n",
    "      | Up -> do o = u(last o, 1) until (o > 10) then Down\n",
    "      | Down -> do o = u(last o, -1) until (o < 1) then Up"
   ]
  },
  {
   "cell_type": "code",
   "execution_count": 12,
   "metadata": {},
   "outputs": [
    {
     "data": {
      "text/plain": [
       "[3, 6, 9, 12, 13, 14, 15, 16, 17, 18, 19, 20, 21, 22, 23, 24, 25, 26, 27, 28]"
      ]
     },
     "execution_count": 12,
     "metadata": {},
     "output_type": "execute_result"
    }
   ],
   "source": [
    "t = sawtooth(12)(5)()\n",
    "t.reset()\n",
    "[t.step(0) for _ in range(20)]"
   ]
  },
  {
   "cell_type": "markdown",
   "metadata": {},
   "source": [
    "## Use imported python modules\n",
    "- Example with numpy"
   ]
  },
  {
   "cell_type": "code",
   "execution_count": 13,
   "metadata": {},
   "outputs": [],
   "source": [
    "import pyzls"
   ]
  },
  {
   "cell_type": "code",
   "execution_count": 14,
   "metadata": {},
   "outputs": [],
   "source": [
    "@pyzls.lib(\"bar\")\n",
    "def foo(x: \"'a\") -> \"'b\":\n",
    "    import numpy as np\n",
    "    return np.arange(x)"
   ]
  },
  {
   "cell_type": "code",
   "execution_count": 15,
   "metadata": {},
   "outputs": [],
   "source": [
    "%%zelus\n",
    "\n",
    "open Bar\n",
    "\n",
    "let node dummy i = o where\n",
    "    rec o = foo(i)"
   ]
  },
  {
   "cell_type": "code",
   "execution_count": 16,
   "metadata": {},
   "outputs": [
    {
     "data": {
      "text/plain": [
       "[array([0, 1]),\n",
       " array([0, 1, 2]),\n",
       " array([0, 1, 2, 3]),\n",
       " array([0, 1, 2, 3, 4]),\n",
       " array([0, 1, 2, 3, 4, 5]),\n",
       " array([0, 1, 2, 3, 4, 5, 6]),\n",
       " array([0, 1, 2, 3, 4, 5, 6, 7]),\n",
       " array([0, 1, 2, 3, 4, 5, 6, 7, 8])]"
      ]
     },
     "execution_count": 16,
     "metadata": {},
     "output_type": "execute_result"
    }
   ],
   "source": [
    "d = dummy()\n",
    "d.reset()\n",
    "[d.step(i) for i in range(2, 10)]"
   ]
  },
  {
   "cell_type": "code",
   "execution_count": 17,
   "metadata": {},
   "outputs": [
    {
     "data": {
      "text/plain": [
       "array([ 0,  1,  2,  3,  4,  5,  6,  7,  8,  9, 10, 11, 12, 13, 14, 15, 16,\n",
       "       17, 18, 19, 20, 21, 22, 23, 24, 25, 26, 27, 28, 29, 30, 31, 32, 33,\n",
       "       34, 35, 36, 37, 38, 39, 40, 41, 42, 43, 44])"
      ]
     },
     "execution_count": 17,
     "metadata": {},
     "output_type": "execute_result"
    }
   ],
   "source": [
    "foo(45)"
   ]
  },
  {
   "cell_type": "markdown",
   "metadata": {},
   "source": [
    "## ProbPyZLS"
   ]
  },
  {
   "cell_type": "code",
   "execution_count": 18,
   "metadata": {},
   "outputs": [],
   "source": [
    "import pyzls\n",
    "from infer_pf import Prob\n",
    "import numpy as np\n",
    "import pandas as pd"
   ]
  },
  {
   "cell_type": "code",
   "execution_count": 19,
   "metadata": {},
   "outputs": [],
   "source": [
    "@pyzls.lib(\"dist\")\n",
    "def gaussian(*args: \"'a\") -> \"'b\":\n",
    "    from torch.distributions import Normal\n",
    "    return Normal(*args)"
   ]
  },
  {
   "cell_type": "code",
   "execution_count": 20,
   "metadata": {},
   "outputs": [],
   "source": [
    "%%zelus -c -zopt \"-I /Users/gbdrt/Projects/rppl/probzelus/inference\" -zopt \"-I ../lib\"\n",
    "\n",
    "open Dist\n",
    "open Infer_pf\n",
    "\n",
    "let proba kalman(x) = o where\n",
    "     rec o = sample(gaussian(0. fby o, 2.))\n",
    "     and _ = observe(gaussian(o, 4.), x)\n",
    "     \n",
    "let node tracker i = dist where\n",
    "  rec dist = infer(100)(kalman)(i)"
   ]
  },
  {
   "cell_type": "code",
   "execution_count": 21,
   "metadata": {},
   "outputs": [
    {
     "data": {
      "image/png": "[encoded data removed]",
      "text/plain": [
       "<Figure size 432x288 with 1 Axes>"
      ]
     },
     "metadata": {
      "needs_background": "light"
     },
     "output_type": "display_data"
    }
   ],
   "source": [
    "from IPython.display import clear_output\n",
    "import matplotlib.pyplot as plt\n",
    "\n",
    "toto = tracker()\n",
    "toto.reset()\n",
    "\n",
    "n = 100\n",
    "t = np.arange(n)\n",
    "r = 10*np.sin(0.1*np.arange(n)) + np.random.randn(n)\n",
    "\n",
    "s_min = []\n",
    "s_mean = []\n",
    "s_max = []\n",
    "\n",
    "\n",
    "for i in range(n):\n",
    "    clear_output(wait=True)\n",
    "    plt.plot(t[:i] , s_mean)\n",
    "    plt.plot(t[:i] , r[:i], 'xr')\n",
    "    plt.fill_between(t[:i], s_min, s_max, alpha=0.2)\n",
    "    plt.axis((0 , n , -13 , 13))\n",
    "    plt.show()\n",
    "    d = toto.step(r[i])\n",
    "    s_min.append(np.min(d))\n",
    "    s_mean.append(np.mean(d))\n",
    "    s_max.append(np.max(d))\n",
    "    "
   ]
  },
  {
   "cell_type": "code",
   "execution_count": null,
   "metadata": {},
   "outputs": [],
   "source": []
  }
 ],
 "metadata": {
  "kernelspec": {
   "display_name": "Python 3",
   "language": "python",
   "name": "python3"
  },
  "language_info": {
   "codemirror_mode": {
    "name": "ipython",
    "version": 3
   },
   "file_extension": ".py",
   "mimetype": "text/x-python",
   "name": "python",
   "nbconvert_exporter": "python",
   "pygments_lexer": "ipython3",
   "version": "3.8.2"
  }
 },
 "nbformat": 4,
 "nbformat_minor": 2
}
